{
 "cells": [
  {
   "cell_type": "code",
   "execution_count": 26,
   "id": "9b29b92d",
   "metadata": {},
   "outputs": [],
   "source": [
    "import pyodbc as connection\n",
    "import pandas as pd\n",
    "import csv"
   ]
  },
  {
   "cell_type": "code",
   "execution_count": 106,
   "id": "73ecb521",
   "metadata": {},
   "outputs": [],
   "source": [
    "##1.\tInvoke stored procedure using python script.\n",
    "\n",
    "#Setting the connection\n",
    "mydb=connection.connect(\n",
    "    \"Driver={SQL Server};\"\n",
    "    \"Server=DESKTOP-2UUATEP\\SHAHZEB;\"\n",
    "    \"Database=Screening_Task;\"\n",
    "    \"Trusted_Connection=yes;\")\n",
    "\n",
    "#1.\tInvoke stored procedure using python script.\n",
    "query='EXEC Account_balance @account=254571'\n",
    "results=pd.read_sql_query(query,mydb)\n",
    "results.to_csv(\"Testing3\")\n",
    "mydb.close()\n"
   ]
  },
  {
   "cell_type": "code",
   "execution_count": 41,
   "id": "09aea8e0",
   "metadata": {},
   "outputs": [],
   "source": [
    "#2.\tInsert record using python script.\n",
    "#Setting the connection\n",
    "mydb=connection.connect(\n",
    "    \"Driver={SQL Server};\"\n",
    "    \"Server=DESKTOP-2UUATEP\\SHAHZEB;\"\n",
    "    \"Database=Screening_Task;\"\n",
    "    \"Trusted_Connection=yes;\")\n",
    "cursor=mydb.cursor()\n",
    "query='''insert into User_Table\n",
    "         ( User_name , User_dob ,User_email , User_created_date )\n",
    "          values\n",
    "         ('python','1999-07-10','python4@gmail.com' ,'2020-02-10')'''\n",
    "\n",
    "cursor.execute(query)\n",
    "mydb.commit()\n",
    "mydb.close()"
   ]
  },
  {
   "cell_type": "code",
   "execution_count": 144,
   "id": "b49c1e7e",
   "metadata": {},
   "outputs": [],
   "source": [
    "#3.\tUse OOPs to design python programs to implement all functionality mentioned above.\n",
    "\n",
    "class testing1:\n",
    "    mydb=connection.connect(\n",
    "    \"Driver={SQL Server};\"\n",
    "    \"Server=DESKTOP-2UUATEP\\SHAHZEB;\"\n",
    "    \"Database=Screening_Task;\"\n",
    "    \"Trusted_Connection=yes;\")\n",
    "    def __init__(self,Store_Procedur_Name,Account_No,Name,dob,email,added_date):\n",
    "        self.store_procedure_name=Store_Procedur_Name\n",
    "        self.account_no=Account_No\n",
    "        self.Name=Name\n",
    "        self.dob=dob\n",
    "        self.email=email\n",
    "        self.added_date=added_date\n",
    "        \n",
    "    def invkoing_stored_procedure(self):\n",
    "        mydb=connection.connect(\n",
    "        \"Driver={SQL Server};\"\n",
    "        \"Server=DESKTOP-2UUATEP\\SHAHZEB;\"\n",
    "        \"Database=Screening_Task;\"\n",
    "        \"Trusted_Connection=yes;\")\n",
    "        cursor=mydb.cursor()\n",
    "        query='EXEC ? @account=?;'\n",
    "        values=(self.store_procedure_name,self.account_no)\n",
    "        cursor.execute(query,values)\n",
    "        for i in cursor:\n",
    "            print(i)\n",
    "        mydb.commit()  \n",
    "        mydb.close()\n",
    "            \n",
    "    def inserting_record(self):\n",
    "        mydb=connection.connect(\n",
    "        \"Driver={SQL Server};\"\n",
    "        \"Server=DESKTOP-2UUATEP\\SHAHZEB;\"\n",
    "        \"Database=Screening_Task;\"\n",
    "        \"Trusted_Connection=yes;\")        \n",
    "        cursor=mydb.cursor()\n",
    "        query=\"insert into User_Table ( User_name , User_dob ,User_email , User_created_date ) values (?,?,?,?);\"\n",
    "        values=(self.Name,self.dob,self.email,self.added_date)\n",
    "        cursor.execute(query,values)\n",
    "        mydb.commit()\n",
    "        mydb.close()\n",
    "        \n",
    "        \n",
    "        "
   ]
  },
  {
   "cell_type": "code",
   "execution_count": 145,
   "id": "80b33cad",
   "metadata": {},
   "outputs": [],
   "source": [
    "obj=testing1('Account_balance',254571,'Divya','2000-10-01','divya@gmail.com','2018-10-05')"
   ]
  },
  {
   "cell_type": "code",
   "execution_count": 146,
   "id": "29a4a6ca",
   "metadata": {},
   "outputs": [
    {
     "name": "stdout",
     "output_type": "stream",
     "text": [
      "(100000, )\n"
     ]
    }
   ],
   "source": [
    "obj.invkoing_stored_procedure()"
   ]
  },
  {
   "cell_type": "code",
   "execution_count": 147,
   "id": "fc505550",
   "metadata": {},
   "outputs": [],
   "source": [
    "mydb=connection.connect(\n",
    "    \"Driver={SQL Server};\"\n",
    "    \"Server=DESKTOP-2UUATEP\\SHAHZEB;\"\n",
    "    \"Database=Screening_Task;\"\n",
    "    \"Trusted_Connection=yes;\")"
   ]
  },
  {
   "cell_type": "code",
   "execution_count": 148,
   "id": "281dcc70",
   "metadata": {},
   "outputs": [],
   "source": [
    "obj.inserting_record()"
   ]
  }
 ],
 "metadata": {
  "kernelspec": {
   "display_name": "Python 3",
   "language": "python",
   "name": "python3"
  },
  "language_info": {
   "codemirror_mode": {
    "name": "ipython",
    "version": 3
   },
   "file_extension": ".py",
   "mimetype": "text/x-python",
   "name": "python",
   "nbconvert_exporter": "python",
   "pygments_lexer": "ipython3",
   "version": "3.8.8"
  }
 },
 "nbformat": 4,
 "nbformat_minor": 5
}
